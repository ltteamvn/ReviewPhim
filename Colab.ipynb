{
  "cells": [
    {
      "cell_type": "markdown",
      "metadata": {
        "id": "8lw0EgLex-YZ"
      },
      "source": [
        "# 📽️ Review Phim 📽️\n",
        "\n",
        "| Mô tả | Link |\n",
        "| ----------- | ---- |\n",
        "| 🎉 Dự Án | [![GitHub Repository](https://img.shields.io/badge/GitHub-Repository-black?style=flat-square&logo=github)](https://github.com/ltteamvn/ReviewPhim.git) |\n",
        "| 🚀 Model Giọng Việt| [![Hugging Model](https://img.shields.io/badge/%F0%9F%A4%97%20Hugging%20Face-Model-blue)](https://huggingface.co/LTTEAM/VietNamModel/tree/main) |\n",
        "| 🌐 Cộng đồng LTTEAM| [![Facebook Group](https://img.shields.io/badge/group%E2%80%93Facebook-blue?style=flat-square&logo=facebook)](https://www.facebook.com/groups/622526090937760) |\n"
      ]
    },
    {
      "cell_type": "code",
      "execution_count": null,
      "metadata": {
        "cellView": "form",
        "id": "LUgwm0rfx0_J"
      },
      "outputs": [],
      "source": [
        "# @title Yêu cầu cài đặt cho Review Phim\n",
        "!git clone https://github.com/ltteamvn/ReviewPhim.git\n",
        "%cd ReviewPhim\n",
        "\n",
        "!pip uninstall chex pandas-stubs ibis-framework albumentations albucore jax -y -q\n",
        "!python -m pip install -q pip==23.1.2\n",
        "!apt install git-lfs\n",
        "!git lfs install\n",
        "\n",
        "!sed -i 's|git+https://github.com/R3gm/whisperX.git@cuda_11_8|git+https://github.com/R3gm/whisperX.git@cuda_12_x|' requirements_base.txt\n",
        "!sed -i 's|fairseq==0.12.2 |https://github.com/liyaodev/fairseq/releases/download/v0.12.3.1/fairseq-0.12.3.1-cp311-cp311-linux_x86_64.whl|' requirements_extra.txt\n",
        "!pip install -q -r requirements_base.txt\n",
        "!pip install -q -r requirements_extra.txt\n",
        "!pip install -q ort-nightly-gpu --index-url=https://aiinfra.pkgs.visualstudio.com/PublicPackages/_packaging/ort-cuda-12-nightly/pypi/simple/\n",
        "\n",
        "Install_PIPER_TTS = True # @param {type:\"boolean\"}\n",
        "\n",
        "if Install_PIPER_TTS:\n",
        "    !pip install -q piper-tts==1.2.0\n",
        "\n",
        "Install_Coqui_XTTS = True # @param {type:\"boolean\"}\n",
        "\n",
        "if Install_Coqui_XTTS:\n",
        "    !pip install -q -r requirements_xtts.txt\n",
        "    !pip install -q TTS==0.21.1  --no-deps\n",
        "\n",
        "!sudo apt install -y libcudnn8\n",
        "!pip install -q torch==2.5.1 torchvision==0.20.1 torchaudio==2.5.1 --index-url https://download.pytorch.org/whl/cu124"
      ]
    },
    {
      "cell_type": "markdown",
      "metadata": {
        "id": "LTaTstXPXNg2"
      },
      "source": [
        "Một bước quan trọng là chấp nhận thỏa thuận cấp phép để sử dụng Pyannote. Bạn cần có một tài khoản trên Hugging Face và **“ Chấp nhận giấy phép sử dụng các mô hình \"** tại:\n",
        "\n",
        "* [https://huggingface.co/pyannote/speaker-diarization](https://huggingface.co/pyannote/speaker-diarization)\n",
        "* [https://huggingface.co/pyannote/segmentation](https://huggingface.co/pyannote/segmentation)\n",
        "\n",
        "Lấy **KEY TOKEN** của bạn tại:\n",
        "[https://hf.co/settings/tokens](https://hf.co/settings/tokens)\n",
        "\n",
        "Khi tạo **Access Token** mới trên Hugging Face, hãy chắc chắn tích chọn **“ Tích chọn tất cả các quyền ”.**"
      ]
    },
    {
      "cell_type": "code",
      "execution_count": null,
      "metadata": {
        "cellView": "form",
        "id": "XkhXfaFw4R4J"
      },
      "outputs": [],
      "source": [
        "#@markdown # `CHẠY ỨNG DỤNG WEB`\n",
        "YOUR_HF_TOKEN = \"\" #@param {type:'string'}\n",
        "%env YOUR_HF_TOKEN={YOUR_HF_TOKEN}\n",
        "theme = \"Taithrah/Minimal\" # @param [\"Taithrah/Minimal\", \"aliabid94/new-theme\", \"gstaff/xkcd\", \"ParityError/LimeFace\", \"abidlabs/pakistan\", \"rottenlittlecreature/Moon_Goblin\", \"ysharma/llamas\", \"gradio/dracula_revamped\"]\n",
        "interface_language = \"vietnamese\" # @param ['arabic', 'azerbaijani', 'chinese_zh_cn', 'english', 'french', 'german', 'hindi', 'indonesian', 'italian', 'japanese', 'korean', 'marathi', 'polish', 'portuguese', 'russian', 'spanish', 'swedish', 'turkish', 'ukrainian', 'vietnamese']\n",
        "verbosity_level = \"info\" # @param [\"debug\", \"info\", \"warning\", \"error\", \"critical\"]\n",
        "\n",
        "\n",
        "%cd /content/ReviewPhim\n",
        "!python app_rvc.py --theme {theme} --verbosity_level {verbosity_level} --language {interface_language} --public_url"
      ]
    },
    {
      "cell_type": "markdown",
      "metadata": {
        "id": "KJW3KrhZJh0u"
      },
      "source": [
        "Mở `URL công khai` khi nó xuất hiện đuôi ***`.gradio.live`*** ( Vidu: https://9fca9044888a41a009.gradio.live )"
      ]
    }
  ],
  "metadata": {
    "accelerator": "GPU",
    "colab": {
      "gpuType": "T4",
      "provenance": []
    },
    "kernelspec": {
      "display_name": "Python 3",
      "name": "python3"
    },
    "language_info": {
      "name": "python"
    }
  },
  "nbformat": 4,
  "nbformat_minor": 0
}